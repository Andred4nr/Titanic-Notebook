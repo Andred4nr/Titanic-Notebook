{
 "cells": [
  {
   "cell_type": "markdown",
   "source": [
    "# 1. Import data and python packages"
   ],
   "metadata": {}
  },
  {
   "cell_type": "code",
   "execution_count": 1,
   "source": [
    "# Data Manipulation\r\n",
    "import pandas as pd\r\n",
    "import numpy as np\r\n",
    "\r\n",
    "# Visualizations\r\n",
    "import seaborn as sns\r\n",
    "sns.set_style(\"dark\")\r\n",
    "sns.set(style=\"darkgrid\", color_codes=True)\r\n",
    "\r\n",
    "import matplotlib.pyplot as plt\r\n",
    "\r\n",
    "# Preparation\r\n",
    "from sklearn.model_selection import train_test_split\r\n",
    "from sklearn.preprocessing import StandardScaler\r\n",
    "from sklearn.pipeline import Pipeline, make_pipeline\r\n",
    "\r\n",
    "# Evaluation\r\n",
    "from sklearn.metrics import accuracy_score\r\n",
    "\r\n",
    "# Cross Validation\r\n",
    "from sklearn.model_selection import cross_val_score\r\n",
    "\r\n",
    "# Possible Models\r\n",
    "from sklearn.neural_network import MLPClassifier\r\n",
    "from sklearn.neighbors import KNeighborsClassifier\r\n",
    "from sklearn.svm import SVC\r\n",
    "from sklearn.tree import DecisionTreeClassifier\r\n",
    "from sklearn.ensemble import RandomForestClassifier, AdaBoostClassifier\r\n",
    "import xgboost as xgb\r\n",
    "\r\n",
    "# Hyperparameter Tuning/Optimization\r\n",
    "import optuna\r\n",
    "\r\n",
    "# Deep learning\r\n",
    "from tensorflow import keras\r\n",
    "from tensorflow.keras import layers\r\n",
    "from tensorflow.keras.layers import BatchNormalization\r\n",
    "from tensorflow.keras.layers import Dense\r\n",
    "from tensorflow.keras.layers import Dropout\r\n",
    "from keras.backend import clear_session\r\n",
    "\r\n",
    "# Hide warnings\r\n",
    "import warnings\r\n",
    "warnings.filterwarnings('ignore')\r\n",
    "optuna.logging.set_verbosity(optuna.logging.ERROR)"
   ],
   "outputs": [],
   "metadata": {}
  },
  {
   "cell_type": "code",
   "execution_count": 2,
   "source": [
    "# Import the training data\r\n",
    "training_path = \"train.csv\"\r\n",
    "training_df = pd.read_csv(training_path)\r\n",
    "\r\n",
    "# Import the test data\r\n",
    "testing_path =  \"test.csv\"\r\n",
    "test_df = pd.read_csv(testing_path)"
   ],
   "outputs": [],
   "metadata": {}
  },
  {
   "cell_type": "markdown",
   "source": [
    "# 2. Missing Values"
   ],
   "metadata": {}
  },
  {
   "cell_type": "code",
   "execution_count": 3,
   "source": [
    "# Peek at the data\r\n",
    "training_df.head()"
   ],
   "outputs": [
    {
     "output_type": "execute_result",
     "data": {
      "text/plain": [
       "   PassengerId  Survived  Pclass  \\\n",
       "0            1         0       3   \n",
       "1            2         1       1   \n",
       "2            3         1       3   \n",
       "3            4         1       1   \n",
       "4            5         0       3   \n",
       "\n",
       "                                                Name     Sex   Age  SibSp  \\\n",
       "0                            Braund, Mr. Owen Harris    male  22.0      1   \n",
       "1  Cumings, Mrs. John Bradley (Florence Briggs Th...  female  38.0      1   \n",
       "2                             Heikkinen, Miss. Laina  female  26.0      0   \n",
       "3       Futrelle, Mrs. Jacques Heath (Lily May Peel)  female  35.0      1   \n",
       "4                           Allen, Mr. William Henry    male  35.0      0   \n",
       "\n",
       "   Parch            Ticket     Fare Cabin Embarked  \n",
       "0      0         A/5 21171   7.2500   NaN        S  \n",
       "1      0          PC 17599  71.2833   C85        C  \n",
       "2      0  STON/O2. 3101282   7.9250   NaN        S  \n",
       "3      0            113803  53.1000  C123        S  \n",
       "4      0            373450   8.0500   NaN        S  "
      ],
      "text/html": [
       "<div>\n",
       "<style scoped>\n",
       "    .dataframe tbody tr th:only-of-type {\n",
       "        vertical-align: middle;\n",
       "    }\n",
       "\n",
       "    .dataframe tbody tr th {\n",
       "        vertical-align: top;\n",
       "    }\n",
       "\n",
       "    .dataframe thead th {\n",
       "        text-align: right;\n",
       "    }\n",
       "</style>\n",
       "<table border=\"1\" class=\"dataframe\">\n",
       "  <thead>\n",
       "    <tr style=\"text-align: right;\">\n",
       "      <th></th>\n",
       "      <th>PassengerId</th>\n",
       "      <th>Survived</th>\n",
       "      <th>Pclass</th>\n",
       "      <th>Name</th>\n",
       "      <th>Sex</th>\n",
       "      <th>Age</th>\n",
       "      <th>SibSp</th>\n",
       "      <th>Parch</th>\n",
       "      <th>Ticket</th>\n",
       "      <th>Fare</th>\n",
       "      <th>Cabin</th>\n",
       "      <th>Embarked</th>\n",
       "    </tr>\n",
       "  </thead>\n",
       "  <tbody>\n",
       "    <tr>\n",
       "      <th>0</th>\n",
       "      <td>1</td>\n",
       "      <td>0</td>\n",
       "      <td>3</td>\n",
       "      <td>Braund, Mr. Owen Harris</td>\n",
       "      <td>male</td>\n",
       "      <td>22.0</td>\n",
       "      <td>1</td>\n",
       "      <td>0</td>\n",
       "      <td>A/5 21171</td>\n",
       "      <td>7.2500</td>\n",
       "      <td>NaN</td>\n",
       "      <td>S</td>\n",
       "    </tr>\n",
       "    <tr>\n",
       "      <th>1</th>\n",
       "      <td>2</td>\n",
       "      <td>1</td>\n",
       "      <td>1</td>\n",
       "      <td>Cumings, Mrs. John Bradley (Florence Briggs Th...</td>\n",
       "      <td>female</td>\n",
       "      <td>38.0</td>\n",
       "      <td>1</td>\n",
       "      <td>0</td>\n",
       "      <td>PC 17599</td>\n",
       "      <td>71.2833</td>\n",
       "      <td>C85</td>\n",
       "      <td>C</td>\n",
       "    </tr>\n",
       "    <tr>\n",
       "      <th>2</th>\n",
       "      <td>3</td>\n",
       "      <td>1</td>\n",
       "      <td>3</td>\n",
       "      <td>Heikkinen, Miss. Laina</td>\n",
       "      <td>female</td>\n",
       "      <td>26.0</td>\n",
       "      <td>0</td>\n",
       "      <td>0</td>\n",
       "      <td>STON/O2. 3101282</td>\n",
       "      <td>7.9250</td>\n",
       "      <td>NaN</td>\n",
       "      <td>S</td>\n",
       "    </tr>\n",
       "    <tr>\n",
       "      <th>3</th>\n",
       "      <td>4</td>\n",
       "      <td>1</td>\n",
       "      <td>1</td>\n",
       "      <td>Futrelle, Mrs. Jacques Heath (Lily May Peel)</td>\n",
       "      <td>female</td>\n",
       "      <td>35.0</td>\n",
       "      <td>1</td>\n",
       "      <td>0</td>\n",
       "      <td>113803</td>\n",
       "      <td>53.1000</td>\n",
       "      <td>C123</td>\n",
       "      <td>S</td>\n",
       "    </tr>\n",
       "    <tr>\n",
       "      <th>4</th>\n",
       "      <td>5</td>\n",
       "      <td>0</td>\n",
       "      <td>3</td>\n",
       "      <td>Allen, Mr. William Henry</td>\n",
       "      <td>male</td>\n",
       "      <td>35.0</td>\n",
       "      <td>0</td>\n",
       "      <td>0</td>\n",
       "      <td>373450</td>\n",
       "      <td>8.0500</td>\n",
       "      <td>NaN</td>\n",
       "      <td>S</td>\n",
       "    </tr>\n",
       "  </tbody>\n",
       "</table>\n",
       "</div>"
      ]
     },
     "metadata": {},
     "execution_count": 3
    }
   ],
   "metadata": {}
  },
  {
   "cell_type": "code",
   "execution_count": 4,
   "source": [
    "print(training_df.shape)\r\n",
    "training_df.isna().sum()"
   ],
   "outputs": [
    {
     "output_type": "stream",
     "name": "stdout",
     "text": [
      "(891, 12)\n"
     ]
    },
    {
     "output_type": "execute_result",
     "data": {
      "text/plain": [
       "PassengerId      0\n",
       "Survived         0\n",
       "Pclass           0\n",
       "Name             0\n",
       "Sex              0\n",
       "Age            177\n",
       "SibSp            0\n",
       "Parch            0\n",
       "Ticket           0\n",
       "Fare             0\n",
       "Cabin          687\n",
       "Embarked         2\n",
       "dtype: int64"
      ]
     },
     "metadata": {},
     "execution_count": 4
    }
   ],
   "metadata": {}
  },
  {
   "cell_type": "markdown",
   "source": [
    "We need to handle the Age, Cabin and Embarked"
   ],
   "metadata": {}
  },
  {
   "cell_type": "markdown",
   "source": [
    "## 2.1. Age"
   ],
   "metadata": {}
  },
  {
   "cell_type": "code",
   "execution_count": 5,
   "source": [
    "## How much is missing\r\n",
    "count_rows = training_df.shape[0]\r\n",
    "count_missing_age = sum(training_df[\"Age\"].isna())\r\n",
    "\r\n",
    "print(f\"Percentage of rows with missing age is {round(count_missing_age/count_rows*100,2)}%\")"
   ],
   "outputs": [
    {
     "output_type": "stream",
     "name": "stdout",
     "text": [
      "Percentage of rows with missing age is 19.87%\n"
     ]
    }
   ],
   "metadata": {}
  },
  {
   "cell_type": "code",
   "execution_count": 6,
   "source": [
    "# How we'll replace the Age\r\n",
    "age_mean = training_df[\"Age\"].mean()\r\n",
    "age_median = training_df[\"Age\"].median()\r\n",
    "\r\n",
    "age_imputer = 29 # between the median (28) and mean (~30)\r\n",
    "\r\n",
    "print(f\"The mean age is {age_mean} and the median age is {age_median}, the imput will be 29\")\r\n",
    "\r\n",
    "# For the age we'll handle the N/As by imputing 29 (age_imputer)"
   ],
   "outputs": [
    {
     "output_type": "stream",
     "name": "stdout",
     "text": [
      "The mean age is 29.69911764705882 and the median age is 28.0, the imput will be 29\n"
     ]
    }
   ],
   "metadata": {}
  },
  {
   "cell_type": "markdown",
   "source": [
    "## 2.2. Embarked"
   ],
   "metadata": {}
  },
  {
   "cell_type": "code",
   "execution_count": 7,
   "source": [
    "training_df[\"Embarked\"].value_counts()"
   ],
   "outputs": [
    {
     "output_type": "execute_result",
     "data": {
      "text/plain": [
       "S    644\n",
       "C    168\n",
       "Q     77\n",
       "Name: Embarked, dtype: int64"
      ]
     },
     "metadata": {},
     "execution_count": 7
    }
   ],
   "metadata": {}
  },
  {
   "cell_type": "code",
   "execution_count": 8,
   "source": [
    "missing_embarked = sum(training_df[\"Embarked\"].isna())\r\n",
    "\r\n",
    "print(f\"We have {missing_embarked} rows with missing values on the Embarked column. We'll imput 'S' since that's the most common value\")"
   ],
   "outputs": [
    {
     "output_type": "stream",
     "name": "stdout",
     "text": [
      "We have 2 rows with missing values on the Embarked column. We'll imput 'S' since that's the most common value\n"
     ]
    }
   ],
   "metadata": {}
  },
  {
   "cell_type": "markdown",
   "source": [
    "## 2.3. Cabin"
   ],
   "metadata": {}
  },
  {
   "cell_type": "code",
   "execution_count": 9,
   "source": [
    "missing_cabin = training_df['Cabin'].isna().sum()\r\n",
    "print(f\"Percentage of rows missing Cabin is {round(missing_cabin/count_rows * 100,2)}\")"
   ],
   "outputs": [
    {
     "output_type": "stream",
     "name": "stdout",
     "text": [
      "Percentage of rows missing Cabin is 77.1\n"
     ]
    }
   ],
   "metadata": {}
  },
  {
   "cell_type": "markdown",
   "source": [
    "There are too many cell missing the Cabin for us to input.\r\n",
    "The missing rows should be because the data was just not collected (my understanding is all passengers and crew had a cabin).\r\n",
    "\r\n",
    "The best way to handle this will be to drop the column altogether."
   ],
   "metadata": {}
  },
  {
   "cell_type": "code",
   "execution_count": 10,
   "source": [
    "# ********************* Cleanup actions *********************\r\n",
    "\r\n",
    "train_data = training_df.copy()\r\n",
    "train_data[\"Age\"].fillna(28, inplace=True)\r\n",
    "train_data[\"Embarked\"].fillna(\"S\", inplace=True)\r\n",
    "train_data.drop('Cabin', axis=1, inplace=True)\r\n",
    "\r\n",
    "train_data.head()"
   ],
   "outputs": [
    {
     "output_type": "execute_result",
     "data": {
      "text/plain": [
       "   PassengerId  Survived  Pclass  \\\n",
       "0            1         0       3   \n",
       "1            2         1       1   \n",
       "2            3         1       3   \n",
       "3            4         1       1   \n",
       "4            5         0       3   \n",
       "\n",
       "                                                Name     Sex   Age  SibSp  \\\n",
       "0                            Braund, Mr. Owen Harris    male  22.0      1   \n",
       "1  Cumings, Mrs. John Bradley (Florence Briggs Th...  female  38.0      1   \n",
       "2                             Heikkinen, Miss. Laina  female  26.0      0   \n",
       "3       Futrelle, Mrs. Jacques Heath (Lily May Peel)  female  35.0      1   \n",
       "4                           Allen, Mr. William Henry    male  35.0      0   \n",
       "\n",
       "   Parch            Ticket     Fare Embarked  \n",
       "0      0         A/5 21171   7.2500        S  \n",
       "1      0          PC 17599  71.2833        C  \n",
       "2      0  STON/O2. 3101282   7.9250        S  \n",
       "3      0            113803  53.1000        S  \n",
       "4      0            373450   8.0500        S  "
      ],
      "text/html": [
       "<div>\n",
       "<style scoped>\n",
       "    .dataframe tbody tr th:only-of-type {\n",
       "        vertical-align: middle;\n",
       "    }\n",
       "\n",
       "    .dataframe tbody tr th {\n",
       "        vertical-align: top;\n",
       "    }\n",
       "\n",
       "    .dataframe thead th {\n",
       "        text-align: right;\n",
       "    }\n",
       "</style>\n",
       "<table border=\"1\" class=\"dataframe\">\n",
       "  <thead>\n",
       "    <tr style=\"text-align: right;\">\n",
       "      <th></th>\n",
       "      <th>PassengerId</th>\n",
       "      <th>Survived</th>\n",
       "      <th>Pclass</th>\n",
       "      <th>Name</th>\n",
       "      <th>Sex</th>\n",
       "      <th>Age</th>\n",
       "      <th>SibSp</th>\n",
       "      <th>Parch</th>\n",
       "      <th>Ticket</th>\n",
       "      <th>Fare</th>\n",
       "      <th>Embarked</th>\n",
       "    </tr>\n",
       "  </thead>\n",
       "  <tbody>\n",
       "    <tr>\n",
       "      <th>0</th>\n",
       "      <td>1</td>\n",
       "      <td>0</td>\n",
       "      <td>3</td>\n",
       "      <td>Braund, Mr. Owen Harris</td>\n",
       "      <td>male</td>\n",
       "      <td>22.0</td>\n",
       "      <td>1</td>\n",
       "      <td>0</td>\n",
       "      <td>A/5 21171</td>\n",
       "      <td>7.2500</td>\n",
       "      <td>S</td>\n",
       "    </tr>\n",
       "    <tr>\n",
       "      <th>1</th>\n",
       "      <td>2</td>\n",
       "      <td>1</td>\n",
       "      <td>1</td>\n",
       "      <td>Cumings, Mrs. John Bradley (Florence Briggs Th...</td>\n",
       "      <td>female</td>\n",
       "      <td>38.0</td>\n",
       "      <td>1</td>\n",
       "      <td>0</td>\n",
       "      <td>PC 17599</td>\n",
       "      <td>71.2833</td>\n",
       "      <td>C</td>\n",
       "    </tr>\n",
       "    <tr>\n",
       "      <th>2</th>\n",
       "      <td>3</td>\n",
       "      <td>1</td>\n",
       "      <td>3</td>\n",
       "      <td>Heikkinen, Miss. Laina</td>\n",
       "      <td>female</td>\n",
       "      <td>26.0</td>\n",
       "      <td>0</td>\n",
       "      <td>0</td>\n",
       "      <td>STON/O2. 3101282</td>\n",
       "      <td>7.9250</td>\n",
       "      <td>S</td>\n",
       "    </tr>\n",
       "    <tr>\n",
       "      <th>3</th>\n",
       "      <td>4</td>\n",
       "      <td>1</td>\n",
       "      <td>1</td>\n",
       "      <td>Futrelle, Mrs. Jacques Heath (Lily May Peel)</td>\n",
       "      <td>female</td>\n",
       "      <td>35.0</td>\n",
       "      <td>1</td>\n",
       "      <td>0</td>\n",
       "      <td>113803</td>\n",
       "      <td>53.1000</td>\n",
       "      <td>S</td>\n",
       "    </tr>\n",
       "    <tr>\n",
       "      <th>4</th>\n",
       "      <td>5</td>\n",
       "      <td>0</td>\n",
       "      <td>3</td>\n",
       "      <td>Allen, Mr. William Henry</td>\n",
       "      <td>male</td>\n",
       "      <td>35.0</td>\n",
       "      <td>0</td>\n",
       "      <td>0</td>\n",
       "      <td>373450</td>\n",
       "      <td>8.0500</td>\n",
       "      <td>S</td>\n",
       "    </tr>\n",
       "  </tbody>\n",
       "</table>\n",
       "</div>"
      ]
     },
     "metadata": {},
     "execution_count": 10
    }
   ],
   "metadata": {}
  },
  {
   "cell_type": "code",
   "execution_count": 11,
   "source": [
    "# Chekcing the train data has no missing values or \"NA values\"\r\n",
    "train_data.isna().sum()"
   ],
   "outputs": [
    {
     "output_type": "execute_result",
     "data": {
      "text/plain": [
       "PassengerId    0\n",
       "Survived       0\n",
       "Pclass         0\n",
       "Name           0\n",
       "Sex            0\n",
       "Age            0\n",
       "SibSp          0\n",
       "Parch          0\n",
       "Ticket         0\n",
       "Fare           0\n",
       "Embarked       0\n",
       "dtype: int64"
      ]
     },
     "metadata": {},
     "execution_count": 11
    }
   ],
   "metadata": {}
  },
  {
   "cell_type": "code",
   "execution_count": null,
   "source": [],
   "outputs": [],
   "metadata": {}
  },
  {
   "cell_type": "markdown",
   "source": [
    "# 3. Data Exploration"
   ],
   "metadata": {}
  },
  {
   "cell_type": "markdown",
   "source": [
    "## 3.1. Age Exploration"
   ],
   "metadata": {}
  },
  {
   "cell_type": "code",
   "execution_count": 12,
   "source": [
    "# We'll use the traning_df to avoid the imputation on age\r\n",
    "ax = training_df[\"Age\"].hist(bins=15, color='#34495e', alpha=0.9)\r\n",
    "ax.set(xlabel='Age', ylabel='Count')\r\n",
    "plt.title('Age Distribution')\r\n",
    "plt.show()"
   ],
   "outputs": [
    {
     "output_type": "display_data",
     "data": {
      "text/plain": [
       "<Figure size 432x288 with 1 Axes>"
      ],
      "image/png": "[encoded data removed]"
     },
     "metadata": {}
    }
   ],
   "metadata": {}
  },
  {
   "cell_type": "code",
   "execution_count": 19,
   "source": [
    "plt.figure(figsize=(15,6))\r\n",
    "sns.kdeplot(training_df[\"Age\"][training_df[\"Survived\"] == 1], color=\"lightseagreen\", shade=True)\r\n",
    "sns.kdeplot(training_df[\"Age\"][training_df[\"Survived\"] == 0], color=\"salmon\", shade=True)\r\n",
    "plt.legend(['Survived', 'Died'])\r\n",
    "plt.title('Age - Survived and not survived distribution')\r\n",
    "# Display the Grath stating at 0\r\n",
    "plt.xlim(0, 100)\r\n",
    "\r\n",
    "# Highlight the part 0-15\r\n",
    "#plt.axvspan(0, 15, color='palegreen', alpha=0.5)\r\n",
    "\r\n",
    "# Highlight the part 55 - 80\r\n",
    "#plt.axvspan(60, 80, color='lightcoral', alpha=0.5)\r\n",
    "\r\n",
    "plt.show()\r\n"
   ],
   "outputs": [
    {
     "output_type": "display_data",
     "data": {
      "text/plain": [
       "<Figure size 1080x432 with 1 Axes>"
      ],
      "image/png": "[encoded data removed]"
     },
     "metadata": {}
    }
   ],
   "metadata": {}
  },
  {
   "cell_type": "code",
   "execution_count": 14,
   "source": [
    "age_data = training_df[[\"Age\", \"Survived\"]]\r\n",
    "age_data_clean = age_data.dropna()\r\n",
    "age_data_clean['Age'] = age_data_clean['Age'].astype('int')\r\n",
    "\r\n",
    "age_mean_df = age_data_clean.groupby('Age', as_index=False).mean()"
   ],
   "outputs": [],
   "metadata": {}
  },
  {
   "cell_type": "code",
   "execution_count": 15,
   "source": [
    "plt.figure(figsize=(25,6))\r\n",
    "sns.barplot(x='Age', y='Survived', data=age_mean_df, color=\"#34495e\")\r\n",
    "plt.title('Age - Survival rate per age')\r\n",
    "plt.show()\r\n"
   ],
   "outputs": [
    {
     "output_type": "display_data",
     "data": {
      "text/plain": [
       "<Figure size 1800x432 with 1 Axes>"
      ],
      "image/png": "[encoded data removed]"
     },
     "metadata": {}
    }
   ],
   "metadata": {}
  },
  {
   "cell_type": "markdown",
   "source": [
    "### <b>Age Exploration Conclusion</b>\r\n",
    "\r\n",
    "From the data visualizations we can see that there was an effort made to save children. </br>\r\n",
    "We see the survival rate on 0-15 is significantly higher than the rest. </br>\r\n",
    "On the other side we see that as the age is over 60 we see lower survivability rates </br>\r\n",
    "\r\n",
    "<b>Conclusion</b> </br>\r\n",
    "New categorical var: Under 16 </br>\r\n",
    "New categorical var: Over 60"
   ],
   "metadata": {}
  },
  {
   "cell_type": "markdown",
   "source": [
    "## 3.2. Sex Exploration"
   ],
   "metadata": {}
  },
  {
   "cell_type": "code",
   "execution_count": 18,
   "source": [
    "sex_mean_df = train_data[[\"Sex\", \"Survived\"]].groupby(\"Sex\", as_index=False).mean()\r\n",
    "sex_mean_df"
   ],
   "outputs": [
    {
     "output_type": "execute_result",
     "data": {
      "text/plain": [
       "      Sex  Survived\n",
       "0  female  0.742038\n",
       "1    male  0.188908"
      ],
      "text/html": [
       "<div>\n",
       "<style scoped>\n",
       "    .dataframe tbody tr th:only-of-type {\n",
       "        vertical-align: middle;\n",
       "    }\n",
       "\n",
       "    .dataframe tbody tr th {\n",
       "        vertical-align: top;\n",
       "    }\n",
       "\n",
       "    .dataframe thead th {\n",
       "        text-align: right;\n",
       "    }\n",
       "</style>\n",
       "<table border=\"1\" class=\"dataframe\">\n",
       "  <thead>\n",
       "    <tr style=\"text-align: right;\">\n",
       "      <th></th>\n",
       "      <th>Sex</th>\n",
       "      <th>Survived</th>\n",
       "    </tr>\n",
       "  </thead>\n",
       "  <tbody>\n",
       "    <tr>\n",
       "      <th>0</th>\n",
       "      <td>female</td>\n",
       "      <td>0.742038</td>\n",
       "    </tr>\n",
       "    <tr>\n",
       "      <th>1</th>\n",
       "      <td>male</td>\n",
       "      <td>0.188908</td>\n",
       "    </tr>\n",
       "  </tbody>\n",
       "</table>\n",
       "</div>"
      ]
     },
     "metadata": {},
     "execution_count": 18
    }
   ],
   "metadata": {}
  },
  {
   "cell_type": "markdown",
   "source": [
    "### <b>Sex Exploration Conclusion</b>\r\n",
    "\r\n",
    "Women are far more likelly to have survived than men\r\n",
    "\r\n",
    "Categorical var: is_men"
   ],
   "metadata": {}
  },
  {
   "cell_type": "markdown",
   "source": [
    "## 3.3 Passanger class Exploration"
   ],
   "metadata": {}
  },
  {
   "cell_type": "code",
   "execution_count": 17,
   "source": [
    "sns.barplot(data=train_data, x=\"Pclass\", y=\"Survived\", color=\"#34495e\")\r\n",
    "plt.title(\"Survival rate per passenger class\")\r\n",
    "plt.show()"
   ],
   "outputs": [
    {
     "output_type": "display_data",
     "data": {
      "text/plain": [
       "<Figure size 432x288 with 1 Axes>"
      ],
      "image/png": "[encoded data removed]"
     },
     "metadata": {}
    }
   ],
   "metadata": {}
  },
  {
   "cell_type": "markdown",
   "source": [
    "## 3.4 Fare Exploration"
   ],
   "metadata": {}
  },
  {
   "cell_type": "code",
   "execution_count": 18,
   "source": [
    "plt.figure(figsize=(20,6))\r\n",
    "sns.kdeplot(data=train_data[\"Fare\"][train_data[\"Survived\"] == 1], color=\"lightseagreen\", shade=True)\r\n",
    "sns.kdeplot(data=train_data[\"Fare\"][train_data[\"Survived\"] == 0], color=\"salmon\", shade=True)\r\n",
    "plt.legend(['Survived', 'Died'])\r\n",
    "\r\n",
    "# Start at 0\r\n",
    "plt.xlim(0)\r\n",
    "plt.title(\"Survival rate to fare\")"
   ],
   "outputs": [
    {
     "output_type": "execute_result",
     "data": {
      "text/plain": [
       "Text(0.5, 1.0, 'Survival rate to fare')"
      ]
     },
     "metadata": {},
     "execution_count": 18
    },
    {
     "output_type": "display_data",
     "data": {
      "text/plain": [
       "<Figure size 1440x432 with 1 Axes>"
      ],
      "image/png": "[encoded data removed]"
     },
     "metadata": {}
    }
   ],
   "metadata": {}
  },
  {
   "cell_type": "markdown",
   "source": [
    "# 4 - Feature Engineering"
   ],
   "metadata": {}
  },
  {
   "cell_type": "markdown",
   "source": [
    "## 4.1 Travel Alone and count & # family members"
   ],
   "metadata": {}
  },
  {
   "cell_type": "code",
   "execution_count": 19,
   "source": [
    "# Let's simplify the family situation\r\n",
    "# SibSp - count of siblings and spouses\r\n",
    "# Parch - count of parents and children\r\n",
    "train_data['family_count'] = train_data['SibSp'] + train_data['Parch']\r\n",
    "\r\n",
    "# If the family count = 0 then the person travels alone (1), otherwise not (0)\r\n",
    "train_data['travel_alone'] = np.where(train_data['family_count'] == 0, 1, 0)\r\n",
    "\r\n",
    "train_data.drop(['SibSp', 'Parch'], axis=1, inplace=True)"
   ],
   "outputs": [],
   "metadata": {}
  },
  {
   "cell_type": "code",
   "execution_count": 20,
   "source": [
    "train_data.head()"
   ],
   "outputs": [
    {
     "output_type": "execute_result",
     "data": {
      "text/plain": [
       "   PassengerId  Survived  Pclass  \\\n",
       "0            1         0       3   \n",
       "1            2         1       1   \n",
       "2            3         1       3   \n",
       "3            4         1       1   \n",
       "4            5         0       3   \n",
       "\n",
       "                                                Name     Sex   Age  \\\n",
       "0                            Braund, Mr. Owen Harris    male  22.0   \n",
       "1  Cumings, Mrs. John Bradley (Florence Briggs Th...  female  38.0   \n",
       "2                             Heikkinen, Miss. Laina  female  26.0   \n",
       "3       Futrelle, Mrs. Jacques Heath (Lily May Peel)  female  35.0   \n",
       "4                           Allen, Mr. William Henry    male  35.0   \n",
       "\n",
       "             Ticket     Fare Embarked  family_count  travel_alone  \n",
       "0         A/5 21171   7.2500        S             1             0  \n",
       "1          PC 17599  71.2833        C             1             0  \n",
       "2  STON/O2. 3101282   7.9250        S             0             1  \n",
       "3            113803  53.1000        S             1             0  \n",
       "4            373450   8.0500        S             0             1  "
      ],
      "text/html": [
       "<div>\n",
       "<style scoped>\n",
       "    .dataframe tbody tr th:only-of-type {\n",
       "        vertical-align: middle;\n",
       "    }\n",
       "\n",
       "    .dataframe tbody tr th {\n",
       "        vertical-align: top;\n",
       "    }\n",
       "\n",
       "    .dataframe thead th {\n",
       "        text-align: right;\n",
       "    }\n",
       "</style>\n",
       "<table border=\"1\" class=\"dataframe\">\n",
       "  <thead>\n",
       "    <tr style=\"text-align: right;\">\n",
       "      <th></th>\n",
       "      <th>PassengerId</th>\n",
       "      <th>Survived</th>\n",
       "      <th>Pclass</th>\n",
       "      <th>Name</th>\n",
       "      <th>Sex</th>\n",
       "      <th>Age</th>\n",
       "      <th>Ticket</th>\n",
       "      <th>Fare</th>\n",
       "      <th>Embarked</th>\n",
       "      <th>family_count</th>\n",
       "      <th>travel_alone</th>\n",
       "    </tr>\n",
       "  </thead>\n",
       "  <tbody>\n",
       "    <tr>\n",
       "      <th>0</th>\n",
       "      <td>1</td>\n",
       "      <td>0</td>\n",
       "      <td>3</td>\n",
       "      <td>Braund, Mr. Owen Harris</td>\n",
       "      <td>male</td>\n",
       "      <td>22.0</td>\n",
       "      <td>A/5 21171</td>\n",
       "      <td>7.2500</td>\n",
       "      <td>S</td>\n",
       "      <td>1</td>\n",
       "      <td>0</td>\n",
       "    </tr>\n",
       "    <tr>\n",
       "      <th>1</th>\n",
       "      <td>2</td>\n",
       "      <td>1</td>\n",
       "      <td>1</td>\n",
       "      <td>Cumings, Mrs. John Bradley (Florence Briggs Th...</td>\n",
       "      <td>female</td>\n",
       "      <td>38.0</td>\n",
       "      <td>PC 17599</td>\n",
       "      <td>71.2833</td>\n",
       "      <td>C</td>\n",
       "      <td>1</td>\n",
       "      <td>0</td>\n",
       "    </tr>\n",
       "    <tr>\n",
       "      <th>2</th>\n",
       "      <td>3</td>\n",
       "      <td>1</td>\n",
       "      <td>3</td>\n",
       "      <td>Heikkinen, Miss. Laina</td>\n",
       "      <td>female</td>\n",
       "      <td>26.0</td>\n",
       "      <td>STON/O2. 3101282</td>\n",
       "      <td>7.9250</td>\n",
       "      <td>S</td>\n",
       "      <td>0</td>\n",
       "      <td>1</td>\n",
       "    </tr>\n",
       "    <tr>\n",
       "      <th>3</th>\n",
       "      <td>4</td>\n",
       "      <td>1</td>\n",
       "      <td>1</td>\n",
       "      <td>Futrelle, Mrs. Jacques Heath (Lily May Peel)</td>\n",
       "      <td>female</td>\n",
       "      <td>35.0</td>\n",
       "      <td>113803</td>\n",
       "      <td>53.1000</td>\n",
       "      <td>S</td>\n",
       "      <td>1</td>\n",
       "      <td>0</td>\n",
       "    </tr>\n",
       "    <tr>\n",
       "      <th>4</th>\n",
       "      <td>5</td>\n",
       "      <td>0</td>\n",
       "      <td>3</td>\n",
       "      <td>Allen, Mr. William Henry</td>\n",
       "      <td>male</td>\n",
       "      <td>35.0</td>\n",
       "      <td>373450</td>\n",
       "      <td>8.0500</td>\n",
       "      <td>S</td>\n",
       "      <td>0</td>\n",
       "      <td>1</td>\n",
       "    </tr>\n",
       "  </tbody>\n",
       "</table>\n",
       "</div>"
      ]
     },
     "metadata": {},
     "execution_count": 20
    }
   ],
   "metadata": {}
  },
  {
   "cell_type": "code",
   "execution_count": 21,
   "source": [
    "sns.barplot(data=train_data, x=\"travel_alone\", y=\"Survived\", color=\"#34495e\")\r\n",
    "plt.title(\"Survival rate traveling alone (1) vs with family (0)\")\r\n",
    "plt.show()\r\n"
   ],
   "outputs": [
    {
     "output_type": "display_data",
     "data": {
      "text/plain": [
       "<Figure size 432x288 with 1 Axes>"
      ],
      "image/png": "[encoded data removed]"
     },
     "metadata": {}
    }
   ],
   "metadata": {}
  },
  {
   "cell_type": "code",
   "execution_count": 22,
   "source": [
    "sns.barplot(data=train_data, x=\"family_count\", y=\"Survived\", color=\"#34495e\")\r\n",
    "plt.title(\"Survival rate change with count of family members\")\r\n",
    "plt.show()"
   ],
   "outputs": [
    {
     "output_type": "display_data",
     "data": {
      "text/plain": [
       "<Figure size 432x288 with 1 Axes>"
      ],
      "image/png": "[encoded data removed]"
     },
     "metadata": {}
    }
   ],
   "metadata": {}
  },
  {
   "cell_type": "markdown",
   "source": [
    "## 4.2 Passanger Titles"
   ],
   "metadata": {}
  },
  {
   "cell_type": "code",
   "execution_count": 23,
   "source": [
    "import re\r\n",
    "def get_title(name):\r\n",
    "    title_search = re.search(' ([A-Za-z]+)\\.', name) # Find a word between a space and with a .(dot) after\r\n",
    "    # If the title exists, extract and return it.\r\n",
    "    if title_search:\r\n",
    "        return title_search.group(1)\r\n",
    "    return \"\"\r\n",
    "\r\n",
    "# Create a new feature Title, containing the titles of passenger names\r\n",
    "train_data['Title'] = train_data['Name'].apply(get_title)"
   ],
   "outputs": [],
   "metadata": {}
  },
  {
   "cell_type": "code",
   "execution_count": 24,
   "source": [
    "plt.figure(figsize=(20, 5))\r\n",
    "sns.barplot(data=train_data, x=\"Title\", y=\"Survived\", color=\"#34495e\")\r\n",
    "plt.title(\"Survival rate by title\")\r\n",
    "plt.show()"
   ],
   "outputs": [
    {
     "output_type": "display_data",
     "data": {
      "text/plain": [
       "<Figure size 1440x360 with 1 Axes>"
      ],
      "image/png": "[encoded data removed]"
     },
     "metadata": {}
    }
   ],
   "metadata": {}
  },
  {
   "cell_type": "code",
   "execution_count": 25,
   "source": [
    "#Categorize titles\r\n",
    "train_data['Title'] = train_data['Title'].replace(['Lady', 'Countess', 'Dona'], 'Rare_F')\r\n",
    "train_data['Title'] = train_data['Title'].replace(['Capt', 'Col','Don', 'Major', 'Sir', 'Jonkheer'], 'Rare_M')\r\n",
    "train_data['Title'] = train_data['Title'].replace(['Dr', 'Rev'], 'Rare_U')\r\n",
    "\r\n",
    "train_data['Title'] = train_data['Title'].replace('Mlle', 'Miss')\r\n",
    "train_data['Title'] = train_data['Title'].replace('Ms', 'Miss')\r\n",
    "train_data['Title'] = train_data['Title'].replace('Mme', 'Mrs')\r\n",
    "\r\n",
    "# Mapping titles\r\n",
    "title_mapping = {\"Mr\": 1, \"Miss\": 2, \"Mrs\": 3, \"Master\": 4, \"Rare_F\": 5, \"Rare_M\": 6, \"Rare_U\": 7 }\r\n",
    "train_data['Title'] = train_data['Title'].map(title_mapping)\r\n",
    "train_data['Title'] = train_data['Title'].fillna(0)"
   ],
   "outputs": [],
   "metadata": {}
  },
  {
   "cell_type": "code",
   "execution_count": 26,
   "source": [
    "plt.figure(figsize=(20, 5))\r\n",
    "sns.barplot(data=train_data, x=\"Title\", y=\"Survived\", color=\"#34495e\")\r\n",
    "plt.title(\"Survival rate by title\")\r\n",
    "plt.show()"
   ],
   "outputs": [
    {
     "output_type": "display_data",
     "data": {
      "text/plain": [
       "<Figure size 1440x360 with 1 Axes>"
      ],
      "image/png": "[encoded data removed]"
     },
     "metadata": {}
    }
   ],
   "metadata": {}
  },
  {
   "cell_type": "code",
   "execution_count": 27,
   "source": [
    "# Note: Men with a rare title are about twice as likelly to survive"
   ],
   "outputs": [],
   "metadata": {}
  },
  {
   "cell_type": "code",
   "execution_count": 28,
   "source": [
    "train_data.drop(['Name', 'Ticket'], axis=1, inplace=True)"
   ],
   "outputs": [],
   "metadata": {}
  },
  {
   "cell_type": "code",
   "execution_count": 29,
   "source": [
    "train_data.head()"
   ],
   "outputs": [
    {
     "output_type": "execute_result",
     "data": {
      "text/plain": [
       "   PassengerId  Survived  Pclass     Sex   Age     Fare Embarked  \\\n",
       "0            1         0       3    male  22.0   7.2500        S   \n",
       "1            2         1       1  female  38.0  71.2833        C   \n",
       "2            3         1       3  female  26.0   7.9250        S   \n",
       "3            4         1       1  female  35.0  53.1000        S   \n",
       "4            5         0       3    male  35.0   8.0500        S   \n",
       "\n",
       "   family_count  travel_alone  Title  \n",
       "0             1             0      1  \n",
       "1             1             0      3  \n",
       "2             0             1      2  \n",
       "3             1             0      3  \n",
       "4             0             1      1  "
      ],
      "text/html": [
       "<div>\n",
       "<style scoped>\n",
       "    .dataframe tbody tr th:only-of-type {\n",
       "        vertical-align: middle;\n",
       "    }\n",
       "\n",
       "    .dataframe tbody tr th {\n",
       "        vertical-align: top;\n",
       "    }\n",
       "\n",
       "    .dataframe thead th {\n",
       "        text-align: right;\n",
       "    }\n",
       "</style>\n",
       "<table border=\"1\" class=\"dataframe\">\n",
       "  <thead>\n",
       "    <tr style=\"text-align: right;\">\n",
       "      <th></th>\n",
       "      <th>PassengerId</th>\n",
       "      <th>Survived</th>\n",
       "      <th>Pclass</th>\n",
       "      <th>Sex</th>\n",
       "      <th>Age</th>\n",
       "      <th>Fare</th>\n",
       "      <th>Embarked</th>\n",
       "      <th>family_count</th>\n",
       "      <th>travel_alone</th>\n",
       "      <th>Title</th>\n",
       "    </tr>\n",
       "  </thead>\n",
       "  <tbody>\n",
       "    <tr>\n",
       "      <th>0</th>\n",
       "      <td>1</td>\n",
       "      <td>0</td>\n",
       "      <td>3</td>\n",
       "      <td>male</td>\n",
       "      <td>22.0</td>\n",
       "      <td>7.2500</td>\n",
       "      <td>S</td>\n",
       "      <td>1</td>\n",
       "      <td>0</td>\n",
       "      <td>1</td>\n",
       "    </tr>\n",
       "    <tr>\n",
       "      <th>1</th>\n",
       "      <td>2</td>\n",
       "      <td>1</td>\n",
       "      <td>1</td>\n",
       "      <td>female</td>\n",
       "      <td>38.0</td>\n",
       "      <td>71.2833</td>\n",
       "      <td>C</td>\n",
       "      <td>1</td>\n",
       "      <td>0</td>\n",
       "      <td>3</td>\n",
       "    </tr>\n",
       "    <tr>\n",
       "      <th>2</th>\n",
       "      <td>3</td>\n",
       "      <td>1</td>\n",
       "      <td>3</td>\n",
       "      <td>female</td>\n",
       "      <td>26.0</td>\n",
       "      <td>7.9250</td>\n",
       "      <td>S</td>\n",
       "      <td>0</td>\n",
       "      <td>1</td>\n",
       "      <td>2</td>\n",
       "    </tr>\n",
       "    <tr>\n",
       "      <th>3</th>\n",
       "      <td>4</td>\n",
       "      <td>1</td>\n",
       "      <td>1</td>\n",
       "      <td>female</td>\n",
       "      <td>35.0</td>\n",
       "      <td>53.1000</td>\n",
       "      <td>S</td>\n",
       "      <td>1</td>\n",
       "      <td>0</td>\n",
       "      <td>3</td>\n",
       "    </tr>\n",
       "    <tr>\n",
       "      <th>4</th>\n",
       "      <td>5</td>\n",
       "      <td>0</td>\n",
       "      <td>3</td>\n",
       "      <td>male</td>\n",
       "      <td>35.0</td>\n",
       "      <td>8.0500</td>\n",
       "      <td>S</td>\n",
       "      <td>0</td>\n",
       "      <td>1</td>\n",
       "      <td>1</td>\n",
       "    </tr>\n",
       "  </tbody>\n",
       "</table>\n",
       "</div>"
      ]
     },
     "metadata": {},
     "execution_count": 29
    }
   ],
   "metadata": {}
  },
  {
   "cell_type": "code",
   "execution_count": 30,
   "source": [
    "# Age Features\r\n",
    "train_data[\"under_16\"] = np.where(train_data['Age'] < 16, 1, 0)\r\n",
    "train_data[\"over_60\"] = np.where(train_data['Age'] > 60, 1, 0)\r\n",
    "\r\n",
    "# One Hot Encodings\r\n",
    "train_data = pd.get_dummies(train_data, prefix=['Sex'], columns=['Sex'], drop_first=True)\r\n",
    "train_data = pd.get_dummies(train_data, prefix=['Embarked'], columns=['Embarked'], drop_first=True)\r\n",
    "\r\n",
    "train_passengers = train_data['PassengerId']\r\n",
    "train_data.drop('PassengerId', axis=1, inplace=True)\r\n",
    "train_data.head()"
   ],
   "outputs": [
    {
     "output_type": "execute_result",
     "data": {
      "text/plain": [
       "   Survived  Pclass   Age     Fare  family_count  travel_alone  Title  \\\n",
       "0         0       3  22.0   7.2500             1             0      1   \n",
       "1         1       1  38.0  71.2833             1             0      3   \n",
       "2         1       3  26.0   7.9250             0             1      2   \n",
       "3         1       1  35.0  53.1000             1             0      3   \n",
       "4         0       3  35.0   8.0500             0             1      1   \n",
       "\n",
       "   under_16  over_60  Sex_male  Embarked_Q  Embarked_S  \n",
       "0         0        0         1           0           1  \n",
       "1         0        0         0           0           0  \n",
       "2         0        0         0           0           1  \n",
       "3         0        0         0           0           1  \n",
       "4         0        0         1           0           1  "
      ],
      "text/html": [
       "<div>\n",
       "<style scoped>\n",
       "    .dataframe tbody tr th:only-of-type {\n",
       "        vertical-align: middle;\n",
       "    }\n",
       "\n",
       "    .dataframe tbody tr th {\n",
       "        vertical-align: top;\n",
       "    }\n",
       "\n",
       "    .dataframe thead th {\n",
       "        text-align: right;\n",
       "    }\n",
       "</style>\n",
       "<table border=\"1\" class=\"dataframe\">\n",
       "  <thead>\n",
       "    <tr style=\"text-align: right;\">\n",
       "      <th></th>\n",
       "      <th>Survived</th>\n",
       "      <th>Pclass</th>\n",
       "      <th>Age</th>\n",
       "      <th>Fare</th>\n",
       "      <th>family_count</th>\n",
       "      <th>travel_alone</th>\n",
       "      <th>Title</th>\n",
       "      <th>under_16</th>\n",
       "      <th>over_60</th>\n",
       "      <th>Sex_male</th>\n",
       "      <th>Embarked_Q</th>\n",
       "      <th>Embarked_S</th>\n",
       "    </tr>\n",
       "  </thead>\n",
       "  <tbody>\n",
       "    <tr>\n",
       "      <th>0</th>\n",
       "      <td>0</td>\n",
       "      <td>3</td>\n",
       "      <td>22.0</td>\n",
       "      <td>7.2500</td>\n",
       "      <td>1</td>\n",
       "      <td>0</td>\n",
       "      <td>1</td>\n",
       "      <td>0</td>\n",
       "      <td>0</td>\n",
       "      <td>1</td>\n",
       "      <td>0</td>\n",
       "      <td>1</td>\n",
       "    </tr>\n",
       "    <tr>\n",
       "      <th>1</th>\n",
       "      <td>1</td>\n",
       "      <td>1</td>\n",
       "      <td>38.0</td>\n",
       "      <td>71.2833</td>\n",
       "      <td>1</td>\n",
       "      <td>0</td>\n",
       "      <td>3</td>\n",
       "      <td>0</td>\n",
       "      <td>0</td>\n",
       "      <td>0</td>\n",
       "      <td>0</td>\n",
       "      <td>0</td>\n",
       "    </tr>\n",
       "    <tr>\n",
       "      <th>2</th>\n",
       "      <td>1</td>\n",
       "      <td>3</td>\n",
       "      <td>26.0</td>\n",
       "      <td>7.9250</td>\n",
       "      <td>0</td>\n",
       "      <td>1</td>\n",
       "      <td>2</td>\n",
       "      <td>0</td>\n",
       "      <td>0</td>\n",
       "      <td>0</td>\n",
       "      <td>0</td>\n",
       "      <td>1</td>\n",
       "    </tr>\n",
       "    <tr>\n",
       "      <th>3</th>\n",
       "      <td>1</td>\n",
       "      <td>1</td>\n",
       "      <td>35.0</td>\n",
       "      <td>53.1000</td>\n",
       "      <td>1</td>\n",
       "      <td>0</td>\n",
       "      <td>3</td>\n",
       "      <td>0</td>\n",
       "      <td>0</td>\n",
       "      <td>0</td>\n",
       "      <td>0</td>\n",
       "      <td>1</td>\n",
       "    </tr>\n",
       "    <tr>\n",
       "      <th>4</th>\n",
       "      <td>0</td>\n",
       "      <td>3</td>\n",
       "      <td>35.0</td>\n",
       "      <td>8.0500</td>\n",
       "      <td>0</td>\n",
       "      <td>1</td>\n",
       "      <td>1</td>\n",
       "      <td>0</td>\n",
       "      <td>0</td>\n",
       "      <td>1</td>\n",
       "      <td>0</td>\n",
       "      <td>1</td>\n",
       "    </tr>\n",
       "  </tbody>\n",
       "</table>\n",
       "</div>"
      ]
     },
     "metadata": {},
     "execution_count": 30
    }
   ],
   "metadata": {}
  },
  {
   "cell_type": "code",
   "execution_count": 31,
   "source": [
    "colormap = plt.cm.RdBu\r\n",
    "plt.figure(figsize=(14,12))\r\n",
    "plt.title('Pearson Correlation of Features', size=30, y=1.05)\r\n",
    "sns.heatmap(train_data.astype(float).corr(),\r\n",
    "linewidths=0.1,\r\n",
    "vmax=1.0, \r\n",
    "vmin=-1,\r\n",
    "square=True, \r\n",
    "cmap=colormap, \r\n",
    "linecolor='white', \r\n",
    "annot=True)\r\n",
    "plt.show()"
   ],
   "outputs": [
    {
     "output_type": "display_data",
     "data": {
      "text/plain": [
       "<Figure size 1008x864 with 2 Axes>"
      ],
      "image/png": "[encoded data removed]"
     },
     "metadata": {}
    }
   ],
   "metadata": {}
  },
  {
   "cell_type": "markdown",
   "source": [
    "## 5. Model Selection"
   ],
   "metadata": {}
  },
  {
   "cell_type": "code",
   "execution_count": 32,
   "source": [
    "y = train_data['Survived'] #target variable\r\n",
    "X = train_data.drop('Survived', axis=1)"
   ],
   "outputs": [],
   "metadata": {}
  },
  {
   "cell_type": "code",
   "execution_count": 33,
   "source": [
    "# Train / Validation split\r\n",
    "train_X, val_X, train_y, val_y = train_test_split(X, y, random_state=1)"
   ],
   "outputs": [],
   "metadata": {}
  },
  {
   "cell_type": "code",
   "execution_count": 34,
   "source": [
    "# Starting Optuna Optimization\r\n",
    "# Scikit-learn Models\r\n",
    "\r\n",
    "def objective(trial):\r\n",
    "    # Select classifier\r\n",
    "    classifier_name = trial.suggest_categorical('classifier', ['MLPClassifier', 'KNeighborsClassifier', 'SVC', 'DecisionTreeClassifier', 'RandomForestClassifier', 'AdaBoostClassifier'])\r\n",
    "\r\n",
    "    if classifier_name == 'MLPClassifier':\r\n",
    "        classifier_obj = MLPClassifier() # We'll manually tune if it looks promissing\r\n",
    "\r\n",
    "    elif classifier_name == 'KNeighborsClassifier':\r\n",
    "        sug_k = trial.suggest_int(\"k\", 3, 8)\r\n",
    "        classifier_obj = KNeighborsClassifier(n_neighbors=sug_k)\r\n",
    "    \r\n",
    "    elif classifier_name == 'SVC':\r\n",
    "        sug_kernel = trial.suggest_categorical('kernel_svc', ['linear', 'poly', 'rbf', 'sigmoid'])\r\n",
    "        sug_gamma = trial.suggest_categorical('svc_gamma', ['auto', 'scale'])\r\n",
    "        classifier_obj = make_pipeline(StandardScaler(), SVC(gamma=sug_gamma, kernel=sug_kernel))\r\n",
    "    \r\n",
    "    elif classifier_name == 'DecisionTreeClassifier':\r\n",
    "        sug_dtree_depth = trial.suggest_int(\"max_depth\", 3, 8)\r\n",
    "        classifier_obj = DecisionTreeClassifier(max_depth=sug_dtree_depth)\r\n",
    "    \r\n",
    "    elif classifier_name == 'RandomForestClassifier':\r\n",
    "        sug_rtree_depth = trial.suggest_int(\"max_depth\", 3, 8)\r\n",
    "        sug_rtree_estims = trial.suggest_int(\"estimators\", 30, 200)\r\n",
    "        classifier_obj = RandomForestClassifier(max_depth=sug_rtree_depth, n_estimators=sug_rtree_estims)\r\n",
    "    \r\n",
    "    elif classifier_name == 'AdaBoostClassifier':\r\n",
    "        sug_ada_estims = trial.suggest_int(\"estimators\", 30, 600)\r\n",
    "        classifier_obj = AdaBoostClassifier(n_estimators=sug_ada_estims)\r\n",
    "    \r\n",
    "    # Fit model\r\n",
    "    classifier_obj.fit(train_X, train_y)\r\n",
    "\r\n",
    "    # Run model on validation data\r\n",
    "    preds = classifier_obj.predict(val_X)\r\n",
    "\r\n",
    "    # Score model (cross validation)\r\n",
    "    scores = cross_val_score(classifier_obj, X, y,\r\n",
    "                              cv=5,\r\n",
    "                              scoring='accuracy')\r\n",
    "\r\n",
    "    score = sum(scores)/len(scores)\r\n",
    "\r\n",
    "\r\n",
    "    return score"
   ],
   "outputs": [],
   "metadata": {}
  },
  {
   "cell_type": "code",
   "execution_count": 35,
   "source": [
    "study = optuna.create_study(direction=\"maximize\")\r\n",
    "study.optimize(objective, n_trials=500, timeout=500)"
   ],
   "outputs": [],
   "metadata": {}
  },
  {
   "cell_type": "code",
   "execution_count": 36,
   "source": [
    "print(study.best_trial)"
   ],
   "outputs": [
    {
     "output_type": "stream",
     "name": "stdout",
     "text": [
      "FrozenTrial(number=441, values=[0.8395078777226791], datetime_start=datetime.datetime(2021, 7, 11, 21, 27, 30, 167326), datetime_complete=datetime.datetime(2021, 7, 11, 21, 27, 30, 576323), params={'classifier': 'RandomForestClassifier', 'max_depth': 8, 'estimators': 46}, distributions={'classifier': CategoricalDistribution(choices=('MLPClassifier', 'KNeighborsClassifier', 'SVC', 'DecisionTreeClassifier', 'RandomForestClassifier', 'AdaBoostClassifier')), 'max_depth': IntUniformDistribution(high=8, low=3, step=1), 'estimators': IntUniformDistribution(high=200, low=30, step=1)}, user_attrs={}, system_attrs={}, intermediate_values={}, trial_id=441, state=TrialState.COMPLETE, value=None)\n"
     ]
    }
   ],
   "metadata": {}
  },
  {
   "cell_type": "code",
   "execution_count": 37,
   "source": [
    "# optuna optimize xgb\r\n",
    "def objective_xgb(trial):\r\n",
    "    sug_gamma = trial.suggest_uniform('gamma', 0.0, 1.0)\r\n",
    "    sug_subs = trial.suggest_uniform('subsamp', 0.0, 1.0)\r\n",
    "    sug_cols = trial.suggest_uniform('colsamp', 0.0, 1.0)\r\n",
    "    sug_maxd = trial.suggest_int('depth', 3, 15)\r\n",
    "\r\n",
    "    xgb_class = xgb.XGBClassifier(\r\n",
    "    learning_rate = 0.01,\r\n",
    "    n_estimators= 2000,\r\n",
    "    max_depth= sug_maxd,\r\n",
    "    gamma=sug_gamma,                        \r\n",
    "    subsample=sug_subs,\r\n",
    "    colsample_bytree=sug_cols,\r\n",
    "    objective= 'binary:logistic',\r\n",
    "    early_stopping_rounds = 5,\r\n",
    "    verbosity = 0\r\n",
    "    )\r\n",
    "\r\n",
    "    # Fit model\r\n",
    "    xgb_class.fit(train_X, train_y)\r\n",
    "\r\n",
    "    # Run model on validation data\r\n",
    "    preds = xgb_class.predict(val_X)\r\n",
    "\r\n",
    "    # Score model\r\n",
    "    score = accuracy_score(val_y, preds)\r\n",
    "\r\n",
    "    return score\r\n",
    "\r\n",
    "new_study = optuna.create_study(direction=\"maximize\")\r\n",
    "new_study.optimize(objective_xgb, n_trials=200, timeout=300)"
   ],
   "outputs": [],
   "metadata": {}
  },
  {
   "cell_type": "code",
   "execution_count": 38,
   "source": [
    "print(new_study.best_trial)"
   ],
   "outputs": [
    {
     "output_type": "stream",
     "name": "stdout",
     "text": [
      "FrozenTrial(number=8, values=[0.820627802690583], datetime_start=datetime.datetime(2021, 7, 11, 21, 28, 12, 281667), datetime_complete=datetime.datetime(2021, 7, 11, 21, 28, 13, 552456), params={'gamma': 0.7274891849235545, 'subsamp': 0.24848227701074654, 'colsamp': 0.321793546686975, 'depth': 6}, distributions={'gamma': UniformDistribution(high=1.0, low=0.0), 'subsamp': UniformDistribution(high=1.0, low=0.0), 'colsamp': UniformDistribution(high=1.0, low=0.0), 'depth': IntUniformDistribution(high=15, low=3, step=1)}, user_attrs={}, system_attrs={}, intermediate_values={}, trial_id=8, state=TrialState.COMPLETE, value=None)\n"
     ]
    }
   ],
   "metadata": {}
  },
  {
   "cell_type": "code",
   "execution_count": 39,
   "source": [
    "# Keras test\r\n",
    "\r\n",
    "def objective_keras(trial):\r\n",
    "    clear_session()\r\n",
    "\r\n",
    "    # Define the Keras Neural Network\r\n",
    "    input_shape = [train_X.shape[1]]\r\n",
    "\r\n",
    "    new_model = keras.Sequential([\r\n",
    "        layers.BatchNormalization(input_shape=input_shape),\r\n",
    "    ])\r\n",
    "\r\n",
    "    n_layers = trial.suggest_int(\"n_layers\", 1, 5)\r\n",
    "\r\n",
    "    for i in range(n_layers):\r\n",
    "        dropout = trial.suggest_float(f\"dropout_l{i}\", 0.05, 0.5)\r\n",
    "        num_units= trial.suggest_int(f\"n_units_l{i}\", 16, 256, log=True)\r\n",
    "        \r\n",
    "        new_model.add(Dense(num_units, activation=trial.suggest_categorical(f\"activation_fun{i}\", [\"relu\", \"linear\", \"sigmoid\", \"softplus\", \"softsign\", \"selu\", \"tanh\"])))\r\n",
    "        new_model.add(BatchNormalization())\r\n",
    "        new_model.add(Dropout(dropout))\r\n",
    "        \r\n",
    "    new_model.add(Dense(1, activation='sigmoid'))\r\n",
    "\r\n",
    "    new_model.compile(\r\n",
    "        optimizer='adam',\r\n",
    "        loss='binary_crossentropy',\r\n",
    "        metrics=['binary_accuracy']\r\n",
    "        )\r\n",
    "    \r\n",
    "    early_stopping = keras.callbacks.EarlyStopping(\r\n",
    "    patience=5,\r\n",
    "    min_delta=0.001,\r\n",
    "    restore_best_weights=True,\r\n",
    "    )\r\n",
    "\r\n",
    "    new_model.fit(\r\n",
    "        train_X, train_y,\r\n",
    "        validation_data=(val_X, val_y),\r\n",
    "        batch_size=trial.suggest_int(f\"batch_size\", 35, 200, log=True),\r\n",
    "        epochs=100,\r\n",
    "        callbacks=[early_stopping],\r\n",
    "        verbose=0\r\n",
    "    )\r\n",
    "\r\n",
    "    preds = new_model.predict(val_X)\r\n",
    "    preds = [int(pred) for pred in preds]\r\n",
    "\r\n",
    "    # Score model\r\n",
    "    score = accuracy_score(val_y, preds)\r\n",
    "\r\n",
    "    return score"
   ],
   "outputs": [],
   "metadata": {}
  },
  {
   "cell_type": "code",
   "execution_count": 40,
   "source": [
    "study_ker = optuna.create_study(direction=\"maximize\")\r\n",
    "study_ker.optimize(objective_keras, n_trials=350, timeout=750)"
   ],
   "outputs": [],
   "metadata": {}
  },
  {
   "cell_type": "code",
   "execution_count": 41,
   "source": [
    "print(\"Number of finished trials: {}\".format(len(study_ker.trials)))\r\n",
    "\r\n",
    "print(\"Best trial:\")\r\n",
    "trial = study_ker.best_trial\r\n",
    "\r\n",
    "print(\"  Value: {}\".format(trial.value))\r\n",
    "\r\n",
    "print(\"  Params: \")\r\n",
    "for key, value in trial.params.items():\r\n",
    "    print(\"    {}: {}\".format(key, value))"
   ],
   "outputs": [
    {
     "output_type": "stream",
     "name": "stdout",
     "text": [
      "Number of finished trials: 344\n",
      "Best trial:\n",
      "  Value: 0.5739910313901345\n",
      "  Params: \n",
      "    n_layers: 2\n",
      "    dropout_l0: 0.26297511555128056\n",
      "    n_units_l0: 35\n",
      "    activation_fun0: sigmoid\n",
      "    dropout_l1: 0.07420032619865535\n",
      "    n_units_l1: 89\n",
      "    activation_fun1: sigmoid\n",
      "    batch_size: 75\n"
     ]
    }
   ],
   "metadata": {}
  },
  {
   "cell_type": "code",
   "execution_count": 42,
   "source": [
    "# Best models\r\n",
    "\r\n",
    "# scikit-learn\r\n",
    "print(f\"scikit-learn - score: {study.best_trial.values[0]} params: {study.best_trial.params}\")\r\n",
    "\r\n",
    "# XGBoost\r\n",
    "print(f\"XGBoost - score: {new_study.best_trial.values[0]} params: {new_study.best_trial.params}\")\r\n",
    "\r\n",
    "# Keras\r\n",
    "print(f\"Keras - score: {study_ker.best_trial.values[0]} layers: {study_ker.best_trial.params['n_layers']}\")"
   ],
   "outputs": [
    {
     "output_type": "stream",
     "name": "stdout",
     "text": [
      "scikit-learn - score: 0.8395078777226791 params: {'classifier': 'RandomForestClassifier', 'max_depth': 8, 'estimators': 46}\n",
      "XGBoost - score: 0.820627802690583 params: {'gamma': 0.7274891849235545, 'subsamp': 0.24848227701074654, 'colsamp': 0.321793546686975, 'depth': 6}\n",
      "Keras - score: 0.5739910313901345 layers: 2\n"
     ]
    }
   ],
   "metadata": {}
  },
  {
   "cell_type": "markdown",
   "source": [
    "## 6. Test & submission"
   ],
   "metadata": {}
  },
  {
   "cell_type": "markdown",
   "source": [
    "### 6.1. Replicate data transformation on the Test data"
   ],
   "metadata": {}
  },
  {
   "cell_type": "code",
   "execution_count": 43,
   "source": [
    "# Test Data conversion\r\n",
    "\r\n",
    "# ********************* Cleanup actions *********************\r\n",
    "test_data = test_df.copy()\r\n",
    "test_data[\"Age\"].fillna(28, inplace=True)\r\n",
    "test_data[\"Embarked\"].fillna(\"S\", inplace=True)\r\n",
    "test_data.drop('Cabin', axis=1, inplace=True)\r\n",
    "\r\n",
    "# ***** Family Features\r\n",
    "# Let's simplify the family situation\r\n",
    "test_data['family_count'] = test_data['SibSp'] + test_data['Parch']\r\n",
    "\r\n",
    "# If the family count = 0 then the person travels alone (1), otherwise not (0)\r\n",
    "test_data['travel_alone'] = np.where(test_data['family_count'] == 0, 1, 0)\r\n",
    "\r\n",
    "test_data.drop(['SibSp', 'Parch'], axis=1, inplace=True)\r\n",
    "\r\n",
    "# ***** Title Feature\r\n",
    "# Create a new feature Title, containing the titles of passenger names\r\n",
    "test_data['Title'] = test_data['Name'].apply(get_title)\r\n",
    "\r\n",
    "#Categorize titles\r\n",
    "test_data['Title'] = test_data['Title'].replace(['Lady', 'Countess', 'Dona'], 'Rare_F')\r\n",
    "test_data['Title'] = test_data['Title'].replace(['Capt', 'Col','Don', 'Major', 'Sir', 'Jonkheer'], 'Rare_M')\r\n",
    "test_data['Title'] = test_data['Title'].replace(['Dr', 'Rev'], 'Rare_U')\r\n",
    "\r\n",
    "test_data['Title'] = test_data['Title'].replace('Mlle', 'Miss')\r\n",
    "test_data['Title'] = test_data['Title'].replace('Ms', 'Miss')\r\n",
    "test_data['Title'] = test_data['Title'].replace('Mme', 'Mrs')\r\n",
    "\r\n",
    "# Mapping titles\r\n",
    "title_mapping = {\"Mr\": 1, \"Miss\": 2, \"Mrs\": 3, \"Master\": 4, \"Rare_F\": 5, \"Rare_M\": 6, \"Rare_U\": 7 }\r\n",
    "test_data['Title'] = test_data['Title'].map(title_mapping)\r\n",
    "test_data['Title'] = test_data['Title'].fillna(0)\r\n",
    "\r\n",
    "# ***** Age Features\r\n",
    "test_data[\"under_16\"] = np.where(test_data['Age'] < 16, 1, 0)\r\n",
    "test_data[\"over_60\"] = np.where(test_data['Age'] > 60, 1, 0)\r\n",
    "\r\n",
    "# One Hot Encodings\r\n",
    "test_data = pd.get_dummies(test_data, prefix=['Sex'], columns=['Sex'], drop_first=True)\r\n",
    "test_data = pd.get_dummies(test_data, prefix=['Embarked'], columns=['Embarked'], drop_first=True)\r\n",
    "\r\n",
    "# Drop Name and Ticket\r\n",
    "test_data.drop(['Name', 'Ticket'], axis=1, inplace=True)\r\n",
    "\r\n",
    "# Fill the missing Fare\r\n",
    "test_data[\"Fare\"].fillna(train_data['Fare'].mean(), inplace=True)\r\n",
    "\r\n",
    "#remove the passsengerID column\r\n",
    "test_passengers = test_data['PassengerId']\r\n",
    "test_data.drop('PassengerId', axis=1, inplace=True)\r\n",
    "\r\n",
    "test_data.head()"
   ],
   "outputs": [
    {
     "output_type": "execute_result",
     "data": {
      "text/plain": [
       "   Pclass   Age     Fare  family_count  travel_alone  Title  under_16  \\\n",
       "0       3  34.5   7.8292             0             1      1         0   \n",
       "1       3  47.0   7.0000             1             0      3         0   \n",
       "2       2  62.0   9.6875             0             1      1         0   \n",
       "3       3  27.0   8.6625             0             1      1         0   \n",
       "4       3  22.0  12.2875             2             0      3         0   \n",
       "\n",
       "   over_60  Sex_male  Embarked_Q  Embarked_S  \n",
       "0        0         1           1           0  \n",
       "1        0         0           0           1  \n",
       "2        1         1           1           0  \n",
       "3        0         1           0           1  \n",
       "4        0         0           0           1  "
      ],
      "text/html": [
       "<div>\n",
       "<style scoped>\n",
       "    .dataframe tbody tr th:only-of-type {\n",
       "        vertical-align: middle;\n",
       "    }\n",
       "\n",
       "    .dataframe tbody tr th {\n",
       "        vertical-align: top;\n",
       "    }\n",
       "\n",
       "    .dataframe thead th {\n",
       "        text-align: right;\n",
       "    }\n",
       "</style>\n",
       "<table border=\"1\" class=\"dataframe\">\n",
       "  <thead>\n",
       "    <tr style=\"text-align: right;\">\n",
       "      <th></th>\n",
       "      <th>Pclass</th>\n",
       "      <th>Age</th>\n",
       "      <th>Fare</th>\n",
       "      <th>family_count</th>\n",
       "      <th>travel_alone</th>\n",
       "      <th>Title</th>\n",
       "      <th>under_16</th>\n",
       "      <th>over_60</th>\n",
       "      <th>Sex_male</th>\n",
       "      <th>Embarked_Q</th>\n",
       "      <th>Embarked_S</th>\n",
       "    </tr>\n",
       "  </thead>\n",
       "  <tbody>\n",
       "    <tr>\n",
       "      <th>0</th>\n",
       "      <td>3</td>\n",
       "      <td>34.5</td>\n",
       "      <td>7.8292</td>\n",
       "      <td>0</td>\n",
       "      <td>1</td>\n",
       "      <td>1</td>\n",
       "      <td>0</td>\n",
       "      <td>0</td>\n",
       "      <td>1</td>\n",
       "      <td>1</td>\n",
       "      <td>0</td>\n",
       "    </tr>\n",
       "    <tr>\n",
       "      <th>1</th>\n",
       "      <td>3</td>\n",
       "      <td>47.0</td>\n",
       "      <td>7.0000</td>\n",
       "      <td>1</td>\n",
       "      <td>0</td>\n",
       "      <td>3</td>\n",
       "      <td>0</td>\n",
       "      <td>0</td>\n",
       "      <td>0</td>\n",
       "      <td>0</td>\n",
       "      <td>1</td>\n",
       "    </tr>\n",
       "    <tr>\n",
       "      <th>2</th>\n",
       "      <td>2</td>\n",
       "      <td>62.0</td>\n",
       "      <td>9.6875</td>\n",
       "      <td>0</td>\n",
       "      <td>1</td>\n",
       "      <td>1</td>\n",
       "      <td>0</td>\n",
       "      <td>1</td>\n",
       "      <td>1</td>\n",
       "      <td>1</td>\n",
       "      <td>0</td>\n",
       "    </tr>\n",
       "    <tr>\n",
       "      <th>3</th>\n",
       "      <td>3</td>\n",
       "      <td>27.0</td>\n",
       "      <td>8.6625</td>\n",
       "      <td>0</td>\n",
       "      <td>1</td>\n",
       "      <td>1</td>\n",
       "      <td>0</td>\n",
       "      <td>0</td>\n",
       "      <td>1</td>\n",
       "      <td>0</td>\n",
       "      <td>1</td>\n",
       "    </tr>\n",
       "    <tr>\n",
       "      <th>4</th>\n",
       "      <td>3</td>\n",
       "      <td>22.0</td>\n",
       "      <td>12.2875</td>\n",
       "      <td>2</td>\n",
       "      <td>0</td>\n",
       "      <td>3</td>\n",
       "      <td>0</td>\n",
       "      <td>0</td>\n",
       "      <td>0</td>\n",
       "      <td>0</td>\n",
       "      <td>1</td>\n",
       "    </tr>\n",
       "  </tbody>\n",
       "</table>\n",
       "</div>"
      ]
     },
     "metadata": {},
     "execution_count": 43
    }
   ],
   "metadata": {}
  },
  {
   "cell_type": "code",
   "execution_count": 44,
   "source": [
    "train_data.drop('Survived', axis=1).head()"
   ],
   "outputs": [
    {
     "output_type": "execute_result",
     "data": {
      "text/plain": [
       "   Pclass   Age     Fare  family_count  travel_alone  Title  under_16  \\\n",
       "0       3  22.0   7.2500             1             0      1         0   \n",
       "1       1  38.0  71.2833             1             0      3         0   \n",
       "2       3  26.0   7.9250             0             1      2         0   \n",
       "3       1  35.0  53.1000             1             0      3         0   \n",
       "4       3  35.0   8.0500             0             1      1         0   \n",
       "\n",
       "   over_60  Sex_male  Embarked_Q  Embarked_S  \n",
       "0        0         1           0           1  \n",
       "1        0         0           0           0  \n",
       "2        0         0           0           1  \n",
       "3        0         0           0           1  \n",
       "4        0         1           0           1  "
      ],
      "text/html": [
       "<div>\n",
       "<style scoped>\n",
       "    .dataframe tbody tr th:only-of-type {\n",
       "        vertical-align: middle;\n",
       "    }\n",
       "\n",
       "    .dataframe tbody tr th {\n",
       "        vertical-align: top;\n",
       "    }\n",
       "\n",
       "    .dataframe thead th {\n",
       "        text-align: right;\n",
       "    }\n",
       "</style>\n",
       "<table border=\"1\" class=\"dataframe\">\n",
       "  <thead>\n",
       "    <tr style=\"text-align: right;\">\n",
       "      <th></th>\n",
       "      <th>Pclass</th>\n",
       "      <th>Age</th>\n",
       "      <th>Fare</th>\n",
       "      <th>family_count</th>\n",
       "      <th>travel_alone</th>\n",
       "      <th>Title</th>\n",
       "      <th>under_16</th>\n",
       "      <th>over_60</th>\n",
       "      <th>Sex_male</th>\n",
       "      <th>Embarked_Q</th>\n",
       "      <th>Embarked_S</th>\n",
       "    </tr>\n",
       "  </thead>\n",
       "  <tbody>\n",
       "    <tr>\n",
       "      <th>0</th>\n",
       "      <td>3</td>\n",
       "      <td>22.0</td>\n",
       "      <td>7.2500</td>\n",
       "      <td>1</td>\n",
       "      <td>0</td>\n",
       "      <td>1</td>\n",
       "      <td>0</td>\n",
       "      <td>0</td>\n",
       "      <td>1</td>\n",
       "      <td>0</td>\n",
       "      <td>1</td>\n",
       "    </tr>\n",
       "    <tr>\n",
       "      <th>1</th>\n",
       "      <td>1</td>\n",
       "      <td>38.0</td>\n",
       "      <td>71.2833</td>\n",
       "      <td>1</td>\n",
       "      <td>0</td>\n",
       "      <td>3</td>\n",
       "      <td>0</td>\n",
       "      <td>0</td>\n",
       "      <td>0</td>\n",
       "      <td>0</td>\n",
       "      <td>0</td>\n",
       "    </tr>\n",
       "    <tr>\n",
       "      <th>2</th>\n",
       "      <td>3</td>\n",
       "      <td>26.0</td>\n",
       "      <td>7.9250</td>\n",
       "      <td>0</td>\n",
       "      <td>1</td>\n",
       "      <td>2</td>\n",
       "      <td>0</td>\n",
       "      <td>0</td>\n",
       "      <td>0</td>\n",
       "      <td>0</td>\n",
       "      <td>1</td>\n",
       "    </tr>\n",
       "    <tr>\n",
       "      <th>3</th>\n",
       "      <td>1</td>\n",
       "      <td>35.0</td>\n",
       "      <td>53.1000</td>\n",
       "      <td>1</td>\n",
       "      <td>0</td>\n",
       "      <td>3</td>\n",
       "      <td>0</td>\n",
       "      <td>0</td>\n",
       "      <td>0</td>\n",
       "      <td>0</td>\n",
       "      <td>1</td>\n",
       "    </tr>\n",
       "    <tr>\n",
       "      <th>4</th>\n",
       "      <td>3</td>\n",
       "      <td>35.0</td>\n",
       "      <td>8.0500</td>\n",
       "      <td>0</td>\n",
       "      <td>1</td>\n",
       "      <td>1</td>\n",
       "      <td>0</td>\n",
       "      <td>0</td>\n",
       "      <td>1</td>\n",
       "      <td>0</td>\n",
       "      <td>1</td>\n",
       "    </tr>\n",
       "  </tbody>\n",
       "</table>\n",
       "</div>"
      ]
     },
     "metadata": {},
     "execution_count": 44
    }
   ],
   "metadata": {}
  },
  {
   "cell_type": "markdown",
   "source": [
    "### 6.2. Build the 3 models (best Scikit-learn, best XGBoost, best Keras)"
   ],
   "metadata": {}
  },
  {
   "cell_type": "code",
   "execution_count": 45,
   "source": [
    "# RFC\r\n",
    "rfc = RandomForestClassifier(n_estimators=46, max_depth=8)\r\n",
    "rfc.fit(X, y)"
   ],
   "outputs": [
    {
     "output_type": "execute_result",
     "data": {
      "text/plain": [
       "RandomForestClassifier(max_depth=8, n_estimators=46)"
      ]
     },
     "metadata": {},
     "execution_count": 45
    }
   ],
   "metadata": {}
  },
  {
   "cell_type": "code",
   "execution_count": 46,
   "source": [
    "# XGBClassifier\r\n",
    "xgb_class = xgb.XGBClassifier(\r\n",
    "    learning_rate = 0.01,\r\n",
    "    n_estimators= 2000,\r\n",
    "    max_depth= 6,\r\n",
    "    gamma=0.73,                        \r\n",
    "    subsample=0.25,\r\n",
    "    colsample_bytree=0.32,\r\n",
    "    objective= 'binary:logistic',\r\n",
    "    early_stopping_rounds = 5,\r\n",
    "    verbosity = 0\r\n",
    "    )\r\n",
    "xgb_class.fit(X, y)\r\n"
   ],
   "outputs": [
    {
     "output_type": "execute_result",
     "data": {
      "text/plain": [
       "XGBClassifier(base_score=0.5, booster='gbtree', colsample_bylevel=1,\n",
       "              colsample_bynode=1, colsample_bytree=0.32,\n",
       "              early_stopping_rounds=5, gamma=0.73, gpu_id=-1,\n",
       "              importance_type='gain', interaction_constraints='',\n",
       "              learning_rate=0.01, max_delta_step=0, max_depth=6,\n",
       "              min_child_weight=1, missing=nan, monotone_constraints='()',\n",
       "              n_estimators=2000, n_jobs=8, num_parallel_tree=1, random_state=0,\n",
       "              reg_alpha=0, reg_lambda=1, scale_pos_weight=1, subsample=0.25,\n",
       "              tree_method='exact', validate_parameters=1, verbosity=0)"
      ]
     },
     "metadata": {},
     "execution_count": 46
    }
   ],
   "metadata": {}
  },
  {
   "cell_type": "code",
   "execution_count": 47,
   "source": [
    "study_ker.best_trial.params"
   ],
   "outputs": [
    {
     "output_type": "execute_result",
     "data": {
      "text/plain": [
       "{'n_layers': 2,\n",
       " 'dropout_l0': 0.26297511555128056,\n",
       " 'n_units_l0': 35,\n",
       " 'activation_fun0': 'sigmoid',\n",
       " 'dropout_l1': 0.07420032619865535,\n",
       " 'n_units_l1': 89,\n",
       " 'activation_fun1': 'sigmoid',\n",
       " 'batch_size': 75}"
      ]
     },
     "metadata": {},
     "execution_count": 47
    }
   ],
   "metadata": {}
  },
  {
   "cell_type": "code",
   "execution_count": 48,
   "source": [
    "# Keras - Neural Net\r\n",
    "clear_session()\r\n",
    "\r\n",
    "# Define the Keras Neural Network\r\n",
    "input_shape = [train_X.shape[1]]\r\n",
    "\r\n",
    "new_model = keras.Sequential([\r\n",
    "    layers.BatchNormalization(input_shape=input_shape),\r\n",
    "])\r\n",
    "\r\n",
    "for i in range(study_ker.best_trial.params['n_layers']):\r\n",
    "    new_model.add(Dense(study_ker.best_trial.params[f'n_units_l{i}'], activation=study_ker.best_trial.params[f'activation_fun{i}']))\r\n",
    "    new_model.add(BatchNormalization())\r\n",
    "    new_model.add(Dropout(study_ker.best_trial.params[f'dropout_l{i}']))\r\n",
    "\r\n",
    "new_model.add(Dense(1, activation='sigmoid'))\r\n",
    "\r\n",
    "new_model.compile(\r\n",
    "    optimizer='adam',\r\n",
    "    loss='binary_crossentropy',\r\n",
    "    metrics=['binary_accuracy']\r\n",
    ")\r\n",
    "    \r\n",
    "early_stopping = keras.callbacks.EarlyStopping(\r\n",
    "    patience=5,\r\n",
    "    min_delta=0.001,\r\n",
    "    restore_best_weights=True,\r\n",
    ")\r\n",
    "\r\n",
    "new_model.fit(\r\n",
    "    train_X, train_y,\r\n",
    "    validation_data=(val_X, val_y),\r\n",
    "    batch_size=study_ker.best_trial.params['batch_size'],\r\n",
    "    epochs=100,\r\n",
    "    callbacks=[early_stopping],\r\n",
    "    verbose=0\r\n",
    ")"
   ],
   "outputs": [
    {
     "output_type": "execute_result",
     "data": {
      "text/plain": [
       "<tensorflow.python.keras.callbacks.History at 0x25e6a7df978>"
      ]
     },
     "metadata": {},
     "execution_count": 48
    }
   ],
   "metadata": {}
  },
  {
   "cell_type": "markdown",
   "source": [
    "### 6.3 create submissions with the 3 models"
   ],
   "metadata": {}
  },
  {
   "cell_type": "code",
   "execution_count": 49,
   "source": [
    "test_data.head()"
   ],
   "outputs": [
    {
     "output_type": "execute_result",
     "data": {
      "text/plain": [
       "   Pclass   Age     Fare  family_count  travel_alone  Title  under_16  \\\n",
       "0       3  34.5   7.8292             0             1      1         0   \n",
       "1       3  47.0   7.0000             1             0      3         0   \n",
       "2       2  62.0   9.6875             0             1      1         0   \n",
       "3       3  27.0   8.6625             0             1      1         0   \n",
       "4       3  22.0  12.2875             2             0      3         0   \n",
       "\n",
       "   over_60  Sex_male  Embarked_Q  Embarked_S  \n",
       "0        0         1           1           0  \n",
       "1        0         0           0           1  \n",
       "2        1         1           1           0  \n",
       "3        0         1           0           1  \n",
       "4        0         0           0           1  "
      ],
      "text/html": [
       "<div>\n",
       "<style scoped>\n",
       "    .dataframe tbody tr th:only-of-type {\n",
       "        vertical-align: middle;\n",
       "    }\n",
       "\n",
       "    .dataframe tbody tr th {\n",
       "        vertical-align: top;\n",
       "    }\n",
       "\n",
       "    .dataframe thead th {\n",
       "        text-align: right;\n",
       "    }\n",
       "</style>\n",
       "<table border=\"1\" class=\"dataframe\">\n",
       "  <thead>\n",
       "    <tr style=\"text-align: right;\">\n",
       "      <th></th>\n",
       "      <th>Pclass</th>\n",
       "      <th>Age</th>\n",
       "      <th>Fare</th>\n",
       "      <th>family_count</th>\n",
       "      <th>travel_alone</th>\n",
       "      <th>Title</th>\n",
       "      <th>under_16</th>\n",
       "      <th>over_60</th>\n",
       "      <th>Sex_male</th>\n",
       "      <th>Embarked_Q</th>\n",
       "      <th>Embarked_S</th>\n",
       "    </tr>\n",
       "  </thead>\n",
       "  <tbody>\n",
       "    <tr>\n",
       "      <th>0</th>\n",
       "      <td>3</td>\n",
       "      <td>34.5</td>\n",
       "      <td>7.8292</td>\n",
       "      <td>0</td>\n",
       "      <td>1</td>\n",
       "      <td>1</td>\n",
       "      <td>0</td>\n",
       "      <td>0</td>\n",
       "      <td>1</td>\n",
       "      <td>1</td>\n",
       "      <td>0</td>\n",
       "    </tr>\n",
       "    <tr>\n",
       "      <th>1</th>\n",
       "      <td>3</td>\n",
       "      <td>47.0</td>\n",
       "      <td>7.0000</td>\n",
       "      <td>1</td>\n",
       "      <td>0</td>\n",
       "      <td>3</td>\n",
       "      <td>0</td>\n",
       "      <td>0</td>\n",
       "      <td>0</td>\n",
       "      <td>0</td>\n",
       "      <td>1</td>\n",
       "    </tr>\n",
       "    <tr>\n",
       "      <th>2</th>\n",
       "      <td>2</td>\n",
       "      <td>62.0</td>\n",
       "      <td>9.6875</td>\n",
       "      <td>0</td>\n",
       "      <td>1</td>\n",
       "      <td>1</td>\n",
       "      <td>0</td>\n",
       "      <td>1</td>\n",
       "      <td>1</td>\n",
       "      <td>1</td>\n",
       "      <td>0</td>\n",
       "    </tr>\n",
       "    <tr>\n",
       "      <th>3</th>\n",
       "      <td>3</td>\n",
       "      <td>27.0</td>\n",
       "      <td>8.6625</td>\n",
       "      <td>0</td>\n",
       "      <td>1</td>\n",
       "      <td>1</td>\n",
       "      <td>0</td>\n",
       "      <td>0</td>\n",
       "      <td>1</td>\n",
       "      <td>0</td>\n",
       "      <td>1</td>\n",
       "    </tr>\n",
       "    <tr>\n",
       "      <th>4</th>\n",
       "      <td>3</td>\n",
       "      <td>22.0</td>\n",
       "      <td>12.2875</td>\n",
       "      <td>2</td>\n",
       "      <td>0</td>\n",
       "      <td>3</td>\n",
       "      <td>0</td>\n",
       "      <td>0</td>\n",
       "      <td>0</td>\n",
       "      <td>0</td>\n",
       "      <td>1</td>\n",
       "    </tr>\n",
       "  </tbody>\n",
       "</table>\n",
       "</div>"
      ]
     },
     "metadata": {},
     "execution_count": 49
    }
   ],
   "metadata": {}
  },
  {
   "cell_type": "code",
   "execution_count": 50,
   "source": [
    "# Predictions = RFC\r\n",
    "svc_preds = rfc.predict(test_data)\r\n",
    "\r\n",
    "# Create submission csv - RFC\r\n",
    "output_rfc = pd.DataFrame({'PassengerId': test_passengers,\r\n",
    "                       'Survived': svc_preds})\r\n",
    "output_rfc.set_index('PassengerId')\r\n",
    "output_rfc.to_csv('submission_rfc_r2.csv', index=False)\r\n",
    "\r\n",
    "\r\n",
    "# Predictions = XGB\r\n",
    "xgb_preds = xgb_class.predict(test_data)\r\n",
    "\r\n",
    "# Create submission csv - XGB\r\n",
    "output_xgb = pd.DataFrame({'PassengerId': test_passengers,\r\n",
    "                       'Survived': xgb_preds})\r\n",
    "output_xgb.set_index('PassengerId')\r\n",
    "output_xgb.to_csv('submission_xgb_r2.csv', index=False)"
   ],
   "outputs": [],
   "metadata": {}
  },
  {
   "cell_type": "code",
   "execution_count": 51,
   "source": [
    "# Predictions = Keras\r\n",
    "keras_preds = new_model.predict(test_data)\r\n",
    "keras_preds = [int(pred) for pred in keras_preds]\r\n",
    "\r\n",
    "\r\n",
    "# Create submission csv - Keras\r\n",
    "output_keras = pd.DataFrame({'PassengerId': test_passengers,\r\n",
    "                       'Survived': keras_preds})\r\n",
    "output_keras.set_index('PassengerId')\r\n",
    "output_keras.to_csv('submission_keras_r2.csv', index=False)"
   ],
   "outputs": [],
   "metadata": {}
  },
  {
   "cell_type": "markdown",
   "source": [
    "### 6.4. Optimize the RFC"
   ],
   "metadata": {}
  },
  {
   "cell_type": "code",
   "execution_count": 80,
   "source": [
    "# Optimize Random Forest \r\n",
    "\r\n",
    "from sklearn.model_selection import GridSearchCV\r\n",
    "# Create the parameter grid based on the results of random search \r\n",
    "param_grid = {\r\n",
    "    'max_depth': range(3, 11),\r\n",
    "    'max_features': range(3, 8),\r\n",
    "    'n_estimators': range(25, 300, 25),\r\n",
    "}\r\n",
    "# Create a based model\r\n",
    "rf = RandomForestClassifier()\r\n",
    "# Instantiate the grid search model\r\n",
    "grid_search = GridSearchCV(estimator = rf, param_grid = param_grid, \r\n",
    "                          cv = 3, n_jobs = -1, verbose = 2)"
   ],
   "outputs": [],
   "metadata": {}
  },
  {
   "cell_type": "code",
   "execution_count": 81,
   "source": [
    "def evaluate(model, test_features, test_labels):\r\n",
    "    predictions = model.predict(test_features)\r\n",
    "    errors = abs(predictions - test_labels)\r\n",
    "    mape = 100 * np.mean(errors / test_labels)\r\n",
    "    accuracy = 100 - mape\r\n",
    "    print('Model Performance')\r\n",
    "    print('Average Error: {:0.4f} degrees.'.format(np.mean(errors)))\r\n",
    "    print('Accuracy = {:0.2f}%.'.format(accuracy))\r\n",
    "    \r\n",
    "    return accuracy"
   ],
   "outputs": [],
   "metadata": {}
  },
  {
   "cell_type": "code",
   "execution_count": 82,
   "source": [
    "# Fit the grid search to the data\r\n",
    "grid_search.fit(X, y)\r\n",
    "grid_search.best_params_"
   ],
   "outputs": [
    {
     "output_type": "stream",
     "name": "stdout",
     "text": [
      "Fitting 3 folds for each of 440 candidates, totalling 1320 fits\n"
     ]
    },
    {
     "output_type": "execute_result",
     "data": {
      "text/plain": [
       "{'max_depth': 7, 'max_features': 4, 'n_estimators': 50}"
      ]
     },
     "metadata": {},
     "execution_count": 82
    }
   ],
   "metadata": {}
  },
  {
   "cell_type": "code",
   "execution_count": 85,
   "source": [
    "rfg = RandomForestClassifier(n_estimators=50, max_depth=7, max_features=4)\r\n",
    "rfg.fit(X, y)"
   ],
   "outputs": [
    {
     "output_type": "execute_result",
     "data": {
      "text/plain": [
       "RandomForestClassifier(max_depth=7, max_features=4, n_estimators=50)"
      ]
     },
     "metadata": {},
     "execution_count": 85
    }
   ],
   "metadata": {}
  },
  {
   "cell_type": "code",
   "execution_count": 87,
   "source": [
    "test_df.head()"
   ],
   "outputs": [
    {
     "output_type": "execute_result",
     "data": {
      "text/plain": [
       "   PassengerId  Pclass                                          Name     Sex  \\\n",
       "0          892       3                              Kelly, Mr. James    male   \n",
       "1          893       3              Wilkes, Mrs. James (Ellen Needs)  female   \n",
       "2          894       2                     Myles, Mr. Thomas Francis    male   \n",
       "3          895       3                              Wirz, Mr. Albert    male   \n",
       "4          896       3  Hirvonen, Mrs. Alexander (Helga E Lindqvist)  female   \n",
       "\n",
       "    Age  SibSp  Parch   Ticket     Fare Cabin Embarked  \n",
       "0  34.5      0      0   330911   7.8292   NaN        Q  \n",
       "1  47.0      1      0   363272   7.0000   NaN        S  \n",
       "2  62.0      0      0   240276   9.6875   NaN        Q  \n",
       "3  27.0      0      0   315154   8.6625   NaN        S  \n",
       "4  22.0      1      1  3101298  12.2875   NaN        S  "
      ],
      "text/html": [
       "<div>\n",
       "<style scoped>\n",
       "    .dataframe tbody tr th:only-of-type {\n",
       "        vertical-align: middle;\n",
       "    }\n",
       "\n",
       "    .dataframe tbody tr th {\n",
       "        vertical-align: top;\n",
       "    }\n",
       "\n",
       "    .dataframe thead th {\n",
       "        text-align: right;\n",
       "    }\n",
       "</style>\n",
       "<table border=\"1\" class=\"dataframe\">\n",
       "  <thead>\n",
       "    <tr style=\"text-align: right;\">\n",
       "      <th></th>\n",
       "      <th>PassengerId</th>\n",
       "      <th>Pclass</th>\n",
       "      <th>Name</th>\n",
       "      <th>Sex</th>\n",
       "      <th>Age</th>\n",
       "      <th>SibSp</th>\n",
       "      <th>Parch</th>\n",
       "      <th>Ticket</th>\n",
       "      <th>Fare</th>\n",
       "      <th>Cabin</th>\n",
       "      <th>Embarked</th>\n",
       "    </tr>\n",
       "  </thead>\n",
       "  <tbody>\n",
       "    <tr>\n",
       "      <th>0</th>\n",
       "      <td>892</td>\n",
       "      <td>3</td>\n",
       "      <td>Kelly, Mr. James</td>\n",
       "      <td>male</td>\n",
       "      <td>34.5</td>\n",
       "      <td>0</td>\n",
       "      <td>0</td>\n",
       "      <td>330911</td>\n",
       "      <td>7.8292</td>\n",
       "      <td>NaN</td>\n",
       "      <td>Q</td>\n",
       "    </tr>\n",
       "    <tr>\n",
       "      <th>1</th>\n",
       "      <td>893</td>\n",
       "      <td>3</td>\n",
       "      <td>Wilkes, Mrs. James (Ellen Needs)</td>\n",
       "      <td>female</td>\n",
       "      <td>47.0</td>\n",
       "      <td>1</td>\n",
       "      <td>0</td>\n",
       "      <td>363272</td>\n",
       "      <td>7.0000</td>\n",
       "      <td>NaN</td>\n",
       "      <td>S</td>\n",
       "    </tr>\n",
       "    <tr>\n",
       "      <th>2</th>\n",
       "      <td>894</td>\n",
       "      <td>2</td>\n",
       "      <td>Myles, Mr. Thomas Francis</td>\n",
       "      <td>male</td>\n",
       "      <td>62.0</td>\n",
       "      <td>0</td>\n",
       "      <td>0</td>\n",
       "      <td>240276</td>\n",
       "      <td>9.6875</td>\n",
       "      <td>NaN</td>\n",
       "      <td>Q</td>\n",
       "    </tr>\n",
       "    <tr>\n",
       "      <th>3</th>\n",
       "      <td>895</td>\n",
       "      <td>3</td>\n",
       "      <td>Wirz, Mr. Albert</td>\n",
       "      <td>male</td>\n",
       "      <td>27.0</td>\n",
       "      <td>0</td>\n",
       "      <td>0</td>\n",
       "      <td>315154</td>\n",
       "      <td>8.6625</td>\n",
       "      <td>NaN</td>\n",
       "      <td>S</td>\n",
       "    </tr>\n",
       "    <tr>\n",
       "      <th>4</th>\n",
       "      <td>896</td>\n",
       "      <td>3</td>\n",
       "      <td>Hirvonen, Mrs. Alexander (Helga E Lindqvist)</td>\n",
       "      <td>female</td>\n",
       "      <td>22.0</td>\n",
       "      <td>1</td>\n",
       "      <td>1</td>\n",
       "      <td>3101298</td>\n",
       "      <td>12.2875</td>\n",
       "      <td>NaN</td>\n",
       "      <td>S</td>\n",
       "    </tr>\n",
       "  </tbody>\n",
       "</table>\n",
       "</div>"
      ]
     },
     "metadata": {},
     "execution_count": 87
    }
   ],
   "metadata": {}
  },
  {
   "cell_type": "code",
   "execution_count": 88,
   "source": [
    "preds = rfg.predict(test_data)"
   ],
   "outputs": [],
   "metadata": {}
  },
  {
   "cell_type": "code",
   "execution_count": 89,
   "source": [
    "# Create submission csv - RFC\r\n",
    "output_rfc = pd.DataFrame({'PassengerId': test_passengers,\r\n",
    "                       'Survived': preds})\r\n",
    "output_rfc.set_index('PassengerId')\r\n",
    "output_rfc.to_csv('submission_rfc_r3.csv', index=False)\r\n"
   ],
   "outputs": [],
   "metadata": {}
  },
  {
   "cell_type": "code",
   "execution_count": null,
   "source": [],
   "outputs": [],
   "metadata": {}
  }
 ],
 "metadata": {
  "interpreter": {
   "hash": "ea09e56fc9a284cdc5588c7c305c102c70eb8c63afd554ba6c917c1957c27c89"
  },
  "kernelspec": {
   "display_name": "Python 3.6.8 64-bit ('venv': venv)",
   "name": "python3"
  },
  "language_info": {
   "codemirror_mode": {
    "name": "ipython",
    "version": 3
   },
   "file_extension": ".py",
   "mimetype": "text/x-python",
   "name": "python",
   "nbconvert_exporter": "python",
   "pygments_lexer": "ipython3",
   "version": "3.6.8"
  },
  "orig_nbformat": 4
 },
 "nbformat": 4,
 "nbformat_minor": 2
}